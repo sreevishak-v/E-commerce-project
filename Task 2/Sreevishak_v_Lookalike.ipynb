{
 "cells": [
  {
   "cell_type": "code",
   "execution_count": 31,
   "id": "ac2f9783-48c6-406a-bb53-5c6d5d05cd73",
   "metadata": {},
   "outputs": [],
   "source": [
    "import pandas as pd\n",
    "from sklearn.preprocessing import StandardScaler\n",
    "from sklearn.metrics.pairwise import cosine_similarity\n",
    "import numpy as np\n"
   ]
  },
  {
   "cell_type": "code",
   "execution_count": 32,
   "id": "324dee75-41d0-439e-8fa1-23ffa939b4b2",
   "metadata": {},
   "outputs": [],
   "source": [
    "# Load datasets\n",
    "customers = pd.read_csv(\"Customers.csv\")\n",
    "products = pd.read_csv(\"Products.csv\")\n",
    "transactions = pd.read_csv(\"Transactions.csv\")\n"
   ]
  },
  {
   "cell_type": "code",
   "execution_count": 33,
   "id": "52a5b519-d08e-4e5b-8e28-c768b57e452c",
   "metadata": {},
   "outputs": [
    {
     "data": {
      "text/plain": [
       "Index(['TransactionID', 'CustomerID', 'ProductID', 'TransactionDate',\n",
       "       'Quantity', 'TotalValue', 'Price_x', 'CustomerName', 'Region',\n",
       "       'SignupDate', 'ProductName', 'Category', 'Price_y'],\n",
       "      dtype='object')"
      ]
     },
     "execution_count": 33,
     "metadata": {},
     "output_type": "execute_result"
    }
   ],
   "source": [
    "# Merge datasets for comprehensive analysis\n",
    "merged_data = transactions.merge(customers, on=\"CustomerID\", how=\"left\")\n",
    "merged_data = data.merge(products, on=\"ProductID\", how=\"left\")\n",
    "\n",
    "data.columns\n"
   ]
  },
  {
   "cell_type": "code",
   "execution_count": 34,
   "id": "27bba2a2-daff-4370-be02-de219343f83f",
   "metadata": {},
   "outputs": [],
   "source": [
    "# Feature Engineering\n",
    "# Calculate total spending and transaction frequency for each customer\n",
    "customer_profile = merged_data.groupby('CustomerID').agg(\n",
    "    TotalSpending=('TotalValue', 'sum'),\n",
    "    TransactionCount=('TransactionID', 'nunique'),\n",
    "    AverageSpending=('TotalValue', 'mean')\n",
    ").reset_index()"
   ]
  },
  {
   "cell_type": "code",
   "execution_count": 35,
   "id": "8b4beec1-a8cb-469c-b178-d53f0833166f",
   "metadata": {},
   "outputs": [],
   "source": [
    "# Add customer name and region as features\n",
    "customer_profile = customer_profile.merge(customers[['CustomerID', 'CustomerName', 'Region']], on='CustomerID', how='left')\n"
   ]
  },
  {
   "cell_type": "code",
   "execution_count": 36,
   "id": "ac712494-adba-4b50-aa3f-d754d31103dd",
   "metadata": {},
   "outputs": [],
   "source": [
    "# Add region as a categorical feature\n",
    "region_dummies = pd.get_dummies(customers[['CustomerID', 'Region']], columns=['Region'], drop_first=True)\n",
    "customer_profile = customer_profile.merge(region_dummies, on='CustomerID', how='left')\n"
   ]
  },
  {
   "cell_type": "code",
   "execution_count": 37,
   "id": "5f61f0ee-9484-49ab-8692-e2125de6d19c",
   "metadata": {},
   "outputs": [],
   "source": [
    "# Normalize numerical features\n",
    "scaler = StandardScaler()\n",
    "numeric_features = ['TotalSpending', 'TransactionCount', 'AverageSpending']\n",
    "customer_profile[numeric_features] = scaler.fit_transform(customer_profile[numeric_features])\n"
   ]
  },
  {
   "cell_type": "code",
   "execution_count": 38,
   "id": "ad93b3d3-65c8-4f5d-9427-f39b0fbdcf39",
   "metadata": {},
   "outputs": [],
   "source": [
    "# Compute cosine similarity between customers\n",
    "similarity_matrix = cosine_similarity(customer_profile[numeric_features])\n",
    "\n",
    "# Create a DataFrame for similarity scores\n",
    "similarity_df = pd.DataFrame(similarity_matrix, index=customer_profile['CustomerID'], columns=customer_profile['CustomerID'])\n"
   ]
  },
  {
   "cell_type": "code",
   "execution_count": 39,
   "id": "945c5e0a-dd66-4f15-8533-fe4632342646",
   "metadata": {},
   "outputs": [],
   "source": [
    "# Recommend the top 3 most similar customers for the first 20 customers\n",
    "lookalike_results = []\n",
    "for customer_id in customer_profile['CustomerID'][:20]:\n",
    "    similar_customers = similarity_df[customer_id].sort_values(ascending=False).iloc[1:4]\n",
    "    for similar_id, score in zip(similar_customers.index, similar_customers.values):\n",
    "        original_name = customer_profile[customer_profile['CustomerID'] == customer_id]['CustomerName'].values[0]\n",
    "        similar_name = customer_profile[customer_profile['CustomerID'] == similar_id]['CustomerName'].values[0]\n",
    "        lookalike_results.append({\n",
    "            \"cust_id\": customer_id,\n",
    "            \"cust_name\": original_name,\n",
    "            \"lookalike_id\": similar_id,\n",
    "            \"lookalike_name\": similar_name,\n",
    "            \"similarity_score\": score\n",
    "        })\n"
   ]
  },
  {
   "cell_type": "code",
   "execution_count": 41,
   "id": "56d61535-fc10-49b1-8713-d4334c20d7b2",
   "metadata": {},
   "outputs": [
    {
     "name": "stdout",
     "output_type": "stream",
     "text": [
      "  cust_id         cust_name lookalike_id  lookalike_name  similarity_score\n",
      "0   C0001  Lawrence Carroll        C0137  Robert Gardner          0.999360\n",
      "1   C0001  Lawrence Carroll        C0152    Justin Evans          0.995658\n",
      "2   C0001  Lawrence Carroll        C0121   Mark Atkinson          0.993012\n",
      "3   C0002    Elizabeth Lutz        C0029    Erin Manning          0.999638\n",
      "4   C0002    Elizabeth Lutz        C0199  Andrea Jenkins          0.998867\n"
     ]
    }
   ],
   "source": [
    "# Save the results to a CSV file\n",
    "lookalike_df = pd.DataFrame(lookalike_results)\n",
    "lookalike_df.to_csv('FirstName_LastName_Lookalike.csv', index=False)\n",
    "\n",
    "# Display the lookalike recommendations\n",
    "print(lookalike_df.head())"
   ]
  },
  {
   "cell_type": "code",
   "execution_count": null,
   "id": "e998dd5a-0482-4270-9c6b-500216f65f4c",
   "metadata": {},
   "outputs": [],
   "source": []
  }
 ],
 "metadata": {
  "kernelspec": {
   "display_name": "Python 3 (ipykernel)",
   "language": "python",
   "name": "python3"
  },
  "language_info": {
   "codemirror_mode": {
    "name": "ipython",
    "version": 3
   },
   "file_extension": ".py",
   "mimetype": "text/x-python",
   "name": "python",
   "nbconvert_exporter": "python",
   "pygments_lexer": "ipython3",
   "version": "3.11.7"
  }
 },
 "nbformat": 4,
 "nbformat_minor": 5
}
